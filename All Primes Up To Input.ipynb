{
 "cells": [
  {
   "cell_type": "markdown",
   "id": "0ebda0d5",
   "metadata": {},
   "source": [
    "In this workbook, I will create a function that supplies a list of all prime numbers up to the input number."
   ]
  },
  {
   "cell_type": "code",
   "execution_count": 9,
   "id": "f7dbe328",
   "metadata": {},
   "outputs": [],
   "source": [
    "def allPrimesUpTo(num):\n",
    "    primesFound = []\n",
    "    for number in range(2, num):\n",
    "        for factor in range(2, int(number**0.5)+1):\n",
    "            if number % factor == 0:\n",
    "                break\n",
    "        else:\n",
    "            primesFound.append(number)\n",
    "    return primesFound"
   ]
  },
  {
   "cell_type": "markdown",
   "id": "6ce5025a",
   "metadata": {},
   "source": [
    "Here I test out my function on the input of 10."
   ]
  },
  {
   "cell_type": "code",
   "execution_count": 10,
   "id": "40970231",
   "metadata": {},
   "outputs": [
    {
     "data": {
      "text/plain": [
       "[2, 3, 5, 7]"
      ]
     },
     "execution_count": 10,
     "metadata": {},
     "output_type": "execute_result"
    }
   ],
   "source": [
    "allPrimesUpTo(10)"
   ]
  }
 ],
 "metadata": {
  "kernelspec": {
   "display_name": "Python 3 (ipykernel)",
   "language": "python",
   "name": "python3"
  },
  "language_info": {
   "codemirror_mode": {
    "name": "ipython",
    "version": 3
   },
   "file_extension": ".py",
   "mimetype": "text/x-python",
   "name": "python",
   "nbconvert_exporter": "python",
   "pygments_lexer": "ipython3",
   "version": "3.10.5"
  }
 },
 "nbformat": 4,
 "nbformat_minor": 5
}
